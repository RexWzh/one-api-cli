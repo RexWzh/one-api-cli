{
 "cells": [
  {
   "cell_type": "code",
   "execution_count": null,
   "metadata": {},
   "outputs": [],
   "source": [
    "# 导入变量，或者从环境变量中加载\n",
    "from dotenv import load_dotenv\n",
    "load_dotenv(override=True)"
   ]
  },
  {
   "cell_type": "markdown",
   "metadata": {},
   "source": [
    "## 用户管理"
   ]
  },
  {
   "cell_type": "code",
   "execution_count": null,
   "metadata": {},
   "outputs": [],
   "source": [
    "from one_api_cli import get_users, get_user, update_user, delete_user, create_user"
   ]
  },
  {
   "cell_type": "code",
   "execution_count": null,
   "metadata": {},
   "outputs": [],
   "source": [
    "# 查看用户\n",
    "users = get_users()\n",
    "for user in users:\n",
    "    print(user['id'], user['username'])\n",
    "print(get_user(1))\n",
    "print(get_user(100)) # 不存在的用户"
   ]
  },
  {
   "cell_type": "code",
   "execution_count": null,
   "metadata": {},
   "outputs": [],
   "source": [
    "# 新增用户\n",
    "username = \"test2\"\n",
    "display_name = \"test\"\n",
    "password = \"complicated_password\"\n",
    "create_user(username, display_name, password)"
   ]
  },
  {
   "cell_type": "code",
   "execution_count": null,
   "metadata": {},
   "outputs": [],
   "source": [
    "# 修改用户信息\n",
    "username = \"test2\"\n",
    "new_password = \"new_password_233\"\n",
    "update_user(username, password=new_password) # 也可以指定 ID"
   ]
  },
  {
   "cell_type": "code",
   "execution_count": null,
   "metadata": {},
   "outputs": [],
   "source": [
    "# 删除用户\n",
    "delete_user(username) # 或使用 ID"
   ]
  },
  {
   "cell_type": "markdown",
   "metadata": {},
   "source": [
    "## 渠道管理"
   ]
  },
  {
   "cell_type": "code",
   "execution_count": null,
   "metadata": {},
   "outputs": [],
   "source": [
    "from one_api_cli import get_channels, get_channel, create_channel, update_channel, delete_channel"
   ]
  },
  {
   "cell_type": "code",
   "execution_count": null,
   "metadata": {},
   "outputs": [],
   "source": [
    "# 查看频道\n",
    "channels = get_channels()\n",
    "for channel in channels:\n",
    "    print(channel['id'], channel['name'])\n",
    "print(get_channel(1))\n",
    "print(get_channel(100)) # 不存在的频道"
   ]
  },
  {
   "cell_type": "code",
   "execution_count": null,
   "metadata": {},
   "outputs": [],
   "source": [
    "# 新增频道\n",
    "name = \"test_channel\"\n",
    "create_channel(name, 'sk-123', 'https://api.openai.com', 'gpt-test')"
   ]
  },
  {
   "cell_type": "code",
   "execution_count": null,
   "metadata": {},
   "outputs": [],
   "source": [
    "# 修改频道信息\n",
    "channel_id = [channel['id'] for channel in channels if channel['name'] == name][0]\n",
    "new_name = \"new_channel\"\n",
    "update_channel(channel_id, name=new_name)"
   ]
  },
  {
   "cell_type": "code",
   "execution_count": null,
   "metadata": {},
   "outputs": [],
   "source": [
    "# 删除频道\n",
    "delete_channel(channel_id)"
   ]
  }
 ],
 "metadata": {
  "kernelspec": {
   "display_name": "base",
   "language": "python",
   "name": "python3"
  },
  "language_info": {
   "codemirror_mode": {
    "name": "ipython",
    "version": 3
   },
   "file_extension": ".py",
   "mimetype": "text/x-python",
   "name": "python",
   "nbconvert_exporter": "python",
   "pygments_lexer": "ipython3",
   "version": "3.9.13"
  }
 },
 "nbformat": 4,
 "nbformat_minor": 2
}
