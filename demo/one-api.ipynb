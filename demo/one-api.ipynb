{
 "cells": [
  {
   "cell_type": "markdown",
   "metadata": {},
   "source": [
    "## 鉴权测试"
   ]
  },
  {
   "cell_type": "markdown",
   "metadata": {},
   "source": [
    "设置 `.env` 或使用环境变量\n",
    "\n",
    "```bash\n",
    "# ONE API URL\n",
    "ONE_API_URL=\n",
    "# ACCESS TOKEN at https://{one-api-url}/panel/profile\n",
    "ONE_API_ACCESS_TOKEN=\n",
    "```"
   ]
  },
  {
   "cell_type": "code",
   "execution_count": 1,
   "metadata": {},
   "outputs": [
    {
     "data": {
      "text/plain": [
       "True"
      ]
     },
     "execution_count": 1,
     "metadata": {},
     "output_type": "execute_result"
    }
   ],
   "source": [
    "# 导入变量，或者从环境变量中加载\n",
    "from dotenv import load_dotenv\n",
    "load_dotenv(override=True)"
   ]
  },
  {
   "cell_type": "code",
   "execution_count": 2,
   "metadata": {},
   "outputs": [],
   "source": [
    "import one_api_cli\n",
    "from one_api_cli import OneAPI"
   ]
  },
  {
   "cell_type": "code",
   "execution_count": 3,
   "metadata": {},
   "outputs": [
    {
     "name": "stdout",
     "output_type": "stream",
     "text": [
      "True\n",
      "v0.6.8-alpha.2\n"
     ]
    }
   ],
   "source": [
    "auth = OneAPI()\n",
    "print(auth.is_valid())\n",
    "print(auth.status()['data']['version'])\n"
   ]
  },
  {
   "cell_type": "markdown",
   "metadata": {},
   "source": [
    "## 渠道管理"
   ]
  },
  {
   "cell_type": "code",
   "execution_count": 4,
   "metadata": {},
   "outputs": [
    {
     "data": {
      "text/plain": [
       "(Channel(25, john_olive), Channel(25, john_olive))"
      ]
     },
     "execution_count": 4,
     "metadata": {},
     "output_type": "execute_result"
    }
   ],
   "source": [
    "from one_api_cli import OneAPI, Channel\n",
    "# 获取渠道及最新渠道\n",
    "auth = OneAPI()\n",
    "all_chs = auth.get_channels() # 所有渠道\n",
    "ch = auth.latest_channel() # 最新渠道\n",
    "ch, Channel(25)"
   ]
  },
  {
   "cell_type": "code",
   "execution_count": 5,
   "metadata": {},
   "outputs": [
    {
     "data": {
      "text/plain": [
       "Channel(28, test_channel)"
      ]
     },
     "execution_count": 5,
     "metadata": {},
     "output_type": "execute_result"
    }
   ],
   "source": [
    "# 新增渠道\n",
    "name = \"test_channel\"\n",
    "newch = auth.create_channel(name=name, key='sk-123', base_url = 'https://api.openai.com', models='gpt-test')\n",
    "newch"
   ]
  },
  {
   "cell_type": "code",
   "execution_count": 6,
   "metadata": {},
   "outputs": [
    {
     "data": {
      "text/plain": [
       "{'id': 28,\n",
       " 'type': 1,\n",
       " 'key': '',\n",
       " 'status': 1,\n",
       " 'name': 'new_channel',\n",
       " 'weight': 0,\n",
       " 'created_time': 1724056380,\n",
       " 'test_time': 0,\n",
       " 'response_time': 0,\n",
       " 'base_url': 'https://api.openai.com',\n",
       " 'other': '',\n",
       " 'balance': 0,\n",
       " 'balance_updated_time': 0,\n",
       " 'models': 'gpt-3.5-turbo',\n",
       " 'group': 'default',\n",
       " 'used_quota': 0,\n",
       " 'model_mapping': '',\n",
       " 'priority': 0,\n",
       " 'config': '{}'}"
      ]
     },
     "execution_count": 6,
     "metadata": {},
     "output_type": "execute_result"
    }
   ],
   "source": [
    "# 修改渠道\n",
    "new_name = \"new_channel\"\n",
    "newch.update(name=new_name, models='gpt-3.5-turbo')\n",
    "newch.data"
   ]
  },
  {
   "cell_type": "code",
   "execution_count": 7,
   "metadata": {},
   "outputs": [
    {
     "data": {
      "text/plain": [
       "True"
      ]
     },
     "execution_count": 7,
     "metadata": {},
     "output_type": "execute_result"
    }
   ],
   "source": [
    "# 删除频道\n",
    "newch.delete(confim=False)"
   ]
  },
  {
   "cell_type": "markdown",
   "metadata": {},
   "source": [
    "## 用户管理"
   ]
  },
  {
   "cell_type": "code",
   "execution_count": 1,
   "metadata": {},
   "outputs": [],
   "source": [
    "from one_api_cli import User, OneAPI\n",
    "auth = OneAPI()"
   ]
  },
  {
   "cell_type": "code",
   "execution_count": 2,
   "metadata": {},
   "outputs": [
    {
     "data": {
      "text/plain": [
       "[User(11, test_user2), User(10, test_user), User(1, rexwang)]"
      ]
     },
     "execution_count": 2,
     "metadata": {},
     "output_type": "execute_result"
    }
   ],
   "source": [
    "# 查看用户\n",
    "users = auth.get_users()\n",
    "users"
   ]
  },
  {
   "cell_type": "code",
   "execution_count": 3,
   "metadata": {},
   "outputs": [
    {
     "name": "stderr",
     "output_type": "stream",
     "text": [
      "\u001b[32m2024-08-19 16:43:54.460\u001b[0m | \u001b[31m\u001b[1mERROR   \u001b[0m | \u001b[36mone_api_cli.auth\u001b[0m:\u001b[36mcreate_user\u001b[0m:\u001b[36m168\u001b[0m - \u001b[31m\u001b[1m输入不合法 Key: 'User.Password' Error:Field validation for 'Password' failed on the 'min' tag\u001b[0m\n"
     ]
    }
   ],
   "source": [
    "# 新增用户\n",
    "auth.create_user(username='test', display_name='test', password='123')"
   ]
  },
  {
   "cell_type": "code",
   "execution_count": 4,
   "metadata": {},
   "outputs": [
    {
     "data": {
      "text/plain": [
       "User(12, test)"
      ]
     },
     "execution_count": 4,
     "metadata": {},
     "output_type": "execute_result"
    }
   ],
   "source": [
    "auth.create_user(username='test', display_name='test', password='complicated_password')"
   ]
  },
  {
   "cell_type": "code",
   "execution_count": 6,
   "metadata": {},
   "outputs": [
    {
     "name": "stdout",
     "output_type": "stream",
     "text": [
      "{'id': 12, 'username': 'test', 'password': '', 'display_name': 'test', 'role': 1, 'status': 1, 'email': '', 'github_id': '', 'wechat_id': '', 'lark_id': '', 'verification_code': '', 'access_token': '56696611a00c4442ae0b894bb3bb7cc0', 'quota': 0, 'used_quota': 0, 'request_count': 0, 'group': 'default', 'aff_code': 'cH8k', 'inviter_id': 0}\n",
      "{'id': 12, 'username': 'test', 'password': 'sipmle_password', 'display_name': 'test2', 'role': 1, 'status': 1, 'email': '', 'github_id': '', 'wechat_id': '', 'lark_id': '', 'verification_code': '', 'access_token': '56696611a00c4442ae0b894bb3bb7cc0', 'quota': 0, 'used_quota': 0, 'request_count': 0, 'group': 'default', 'aff_code': 'cH8k', 'inviter_id': 0}\n"
     ]
    }
   ],
   "source": [
    "# 修改用户信息\n",
    "user = User('test')\n",
    "print(user.data)\n",
    "user.update(display_name='test2', password='sipmle_password')\n",
    "print(user.data)"
   ]
  },
  {
   "cell_type": "code",
   "execution_count": 7,
   "metadata": {},
   "outputs": [
    {
     "data": {
      "text/plain": [
       "True"
      ]
     },
     "execution_count": 7,
     "metadata": {},
     "output_type": "execute_result"
    }
   ],
   "source": [
    "# 删除用户\n",
    "user.delete(confim=False)\n",
    "# auth.delete_user('test', confim=False)"
   ]
  }
 ],
 "metadata": {
  "kernelspec": {
   "display_name": "Python 3 (ipykernel)",
   "language": "python",
   "name": "python3"
  },
  "language_info": {
   "codemirror_mode": {
    "name": "ipython",
    "version": 3
   },
   "file_extension": ".py",
   "mimetype": "text/x-python",
   "name": "python",
   "nbconvert_exporter": "python",
   "pygments_lexer": "ipython3",
   "version": "3.9.13"
  }
 },
 "nbformat": 4,
 "nbformat_minor": 4
}
